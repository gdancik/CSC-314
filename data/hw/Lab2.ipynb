{
  "cells": [
    {
      "cell_type": "markdown",
      "metadata": {
        "deletable": false,
        "editable": false,
        "id": "dWPQ1NUolMjD"
      },
      "source": [
        "# Lab 2: Python and Basic Sequence analysis\n",
        "\n",
        "Turn in a printed copy of this notebook on the due date. Note that all code and comments must be visible to receive credit."
      ]
    },
    {
      "cell_type": "markdown",
      "metadata": {
        "id": "w6jKnMo0lMjF"
      },
      "source": [
        "### Name: (add name here) [1 point]"
      ]
    },
    {
      "cell_type": "markdown",
      "metadata": {
        "deletable": false,
        "editable": false,
        "id": "wrfvAMJhlMjG"
      },
      "source": [
        "### Question 1 <span style = 'font-size:80%'>[3 points]</span>\n",
        "\n",
        "Use a single print statement to print out your name. You should not use any variables for this question. Your output should have the format:\n",
        "\n",
        "```\n",
        "My name is: Garrett Dancik\n",
        "```"
      ]
    },
    {
      "cell_type": "code",
      "execution_count": null,
      "metadata": {
        "id": "IKOsQ_utlMjH"
      },
      "outputs": [],
      "source": []
    },
    {
      "cell_type": "markdown",
      "metadata": {
        "deletable": false,
        "editable": false,
        "id": "HrCdzG33lMjH"
      },
      "source": [
        "### Question 2 <span style = 'font-size:80%'>[4 points]</span>\n",
        "\n",
        "Store your full name in a single variable *fullName*, and then output your name using the same format as question 1, but output the value of *fullName*."
      ]
    },
    {
      "cell_type": "code",
      "execution_count": null,
      "metadata": {
        "id": "1xjRMeU-lMjH"
      },
      "outputs": [],
      "source": []
    },
    {
      "cell_type": "markdown",
      "metadata": {
        "deletable": false,
        "editable": false,
        "id": "Gd-Y_vOGlMjI"
      },
      "source": [
        "For questions 3 - 9, use the *dna* variable below, which stores a DNA sequence. Your answers to these questions should use the same variable *dna*. In other words, your code should return the correct answers for any sequence stored in the *dna* variable below."
      ]
    },
    {
      "cell_type": "code",
      "execution_count": null,
      "metadata": {
        "deletable": false,
        "editable": false,
        "id": "r6cXQTrTlMjI"
      },
      "outputs": [],
      "source": [
        "dna = 'acgtagagaatacgtgagagagatcagactagaca'"
      ]
    },
    {
      "cell_type": "markdown",
      "metadata": {
        "deletable": false,
        "editable": false,
        "id": "9Wo1VQTolMjJ"
      },
      "source": [
        "### Question 3 <span style = 'font-size:80%'>[3 points]</span>\n",
        "\n",
        "Display the length of the DNA sequence (which is the number of characters, or nucleotides).\n"
      ]
    },
    {
      "cell_type": "code",
      "execution_count": null,
      "metadata": {
        "id": "O43jiGJVlMjJ"
      },
      "outputs": [],
      "source": []
    },
    {
      "cell_type": "markdown",
      "metadata": {
        "deletable": false,
        "editable": false,
        "id": "iu0ziTALlMjK"
      },
      "source": [
        "### Question 4 <span style = 'font-size:80%'>[3 points]</span>\n",
        "\n",
        "Display the first 4 nucleotides of the sequence."
      ]
    },
    {
      "cell_type": "code",
      "execution_count": null,
      "metadata": {
        "id": "_DNJseH2lMjK"
      },
      "outputs": [],
      "source": []
    },
    {
      "cell_type": "markdown",
      "metadata": {
        "deletable": false,
        "editable": false,
        "id": "zyzqPE9TlMjK"
      },
      "source": [
        "### Question 5 <span style = 'font-size:80%'>[3 points]</span>\n",
        "\n",
        "Display the last 3 nucleotides of the DNA sequence"
      ]
    },
    {
      "cell_type": "code",
      "execution_count": null,
      "metadata": {
        "id": "FM4a9HjclMjK"
      },
      "outputs": [],
      "source": []
    },
    {
      "cell_type": "markdown",
      "metadata": {
        "deletable": false,
        "editable": false,
        "id": "jmCDF25MlMjK"
      },
      "source": [
        "### Question 6 <span style = 'font-size:80%'>[4 points]</span>\n",
        "\n",
        "Output the number of G's in the sequence. You can assume that the sequence is stored in lowercase."
      ]
    },
    {
      "cell_type": "code",
      "execution_count": null,
      "metadata": {
        "id": "aSUr3YVDlMjK"
      },
      "outputs": [],
      "source": []
    },
    {
      "cell_type": "markdown",
      "metadata": {
        "deletable": false,
        "editable": false,
        "id": "DRmwf-xclMjK"
      },
      "source": [
        "### Question 7 <span style = 'font-size:80%'>[4 points]</span>\n",
        "\n",
        "Change the sequence to all uppercase letters, and store the uppercase sequence in *dna*. After doing this, *dna* should contain the original sequence but in all uppercase, which would be output correctly below."
      ]
    },
    {
      "cell_type": "code",
      "execution_count": null,
      "metadata": {
        "id": "e8pG3QHglMjL"
      },
      "outputs": [],
      "source": []
    },
    {
      "cell_type": "code",
      "execution_count": null,
      "metadata": {
        "deletable": false,
        "editable": false,
        "id": "xq5vKf5xlMjL"
      },
      "outputs": [],
      "source": [
        "print('The DNA sequence (in all uppercase letters) is:', dna)"
      ]
    },
    {
      "cell_type": "markdown",
      "metadata": {
        "deletable": false,
        "editable": false,
        "id": "peT_7soflMjL"
      },
      "source": [
        "### Question 8 <span style = 'font-size:80%'>[5 points]</span>\n",
        "\n",
        "Use the *input* function to prompt the user to enter a number of nucleotides, which is stored in *num*. Then output the first *num* nucleotides of the sequence. For example, if the user enters 6, your output should have the following format and output the first 6 nucleotides of *dna*:\n",
        "\n",
        "```\n",
        "The first 6 nucleotides are: acgtag\n",
        "```\n",
        "\n",
        "Note: you do not need to worry about invalid input, but note that the input must be converted to an integer to work. You also can assume that *num* is greater than or equal to the length of the sequence. Note that if *num* is greater than the length of the sequence, slicing will return the entire sequence, which is the desired result in this case."
      ]
    },
    {
      "cell_type": "code",
      "execution_count": null,
      "metadata": {
        "id": "m4C_l3cdlMjM"
      },
      "outputs": [],
      "source": []
    },
    {
      "cell_type": "markdown",
      "metadata": {
        "deletable": false,
        "editable": false,
        "id": "nz9l-J3HlMjM"
      },
      "source": [
        "### Question 9 <span style = 'font-size:80%'>[3 points]</span>\n",
        "\n",
        "Convert the DNA sequence to an RNA sequence, and store the result in a variable named *rna*. Recall that an RNA sequence has a 'U' instead of a 'T'."
      ]
    },
    {
      "cell_type": "code",
      "execution_count": null,
      "metadata": {
        "id": "6yC0Z8XtAiY5"
      },
      "outputs": [],
      "source": []
    },
    {
      "cell_type": "markdown",
      "metadata": {
        "deletable": false,
        "editable": false,
        "id": "0rie71TmmwyX"
      },
      "source": [
        "## Question 10 [5 points]\n",
        "\n",
        "Add a comment before each line in the code below that explains what each line of code does. If a sequence contains a *T* but not a *U*, can we conclude that this is a valid DNA sequence?"
      ]
    },
    {
      "cell_type": "code",
      "execution_count": null,
      "metadata": {
        "id": "8GyyMmGIm4hN"
      },
      "outputs": [],
      "source": [
        "dnaInput = input('Enter a DNA or RNA sequence (e.g., ATGTG): ')\n",
        "dnaInput = dnaInput.upper()\n",
        "\n",
        "if 'T' in dnaInput and 'U' in dnaInput:\n",
        "  print('This sequence is not valid')\n",
        "elif 'T' in dnaInput:\n",
        "  print('This is likely a DNA sequence')\n",
        "elif 'U' in dnaInput:\n",
        "  print('This is likely an RNA sequence')\n",
        "else :\n",
        "  print('This may be either a DNA or RNA sequence')\n"
      ]
    },
    {
      "cell_type": "markdown",
      "metadata": {
        "deletable": false,
        "editable": false,
        "id": "xuoHXLUuBENg"
      },
      "source": [
        "## Question 11 [5 points]\n",
        "\n",
        "Add a comment before each line in the code below that explains what each line of code does.\n",
        "\n"
      ]
    },
    {
      "cell_type": "code",
      "execution_count": null,
      "metadata": {
        "id": "b4Du_RurLi4l"
      },
      "outputs": [],
      "source": [
        "genotype = input('Enter a 2 character genotype (e.g., Pp): ')\n",
        "print(genotype, 'is ', end = '')\n",
        "if len(genotype) != 2 :\n",
        "  print('invalid')\n",
        "elif genotype[0].lower() != genotype[1].lower() :\n",
        "  print('invalid')\n",
        "else :\n",
        "  if genotype[0] == genotype[1] :\n",
        "    print('homozygous ', end = '')\n",
        "    if genotype[0] == genotype[0].upper():\n",
        "      print('dominant')\n",
        "    else :\n",
        "      print('recessive')\n",
        "  else :\n",
        "    print('heterozygous')"
      ]
    },
    {
      "cell_type": "code",
      "execution_count": null,
      "metadata": {
        "id": "MU4r9_gsn5Eg"
      },
      "outputs": [],
      "source": []
    }
  ],
  "metadata": {
    "colab": {
      "provenance": []
    },
    "kernelspec": {
      "display_name": "Python 3 (ipykernel)",
      "language": "python",
      "name": "python3"
    },
    "language_info": {
      "codemirror_mode": {
        "name": "ipython",
        "version": 3
      },
      "file_extension": ".py",
      "mimetype": "text/x-python",
      "name": "python",
      "nbconvert_exporter": "python",
      "pygments_lexer": "ipython3",
      "version": "3.9.6"
    }
  },
  "nbformat": 4,
  "nbformat_minor": 0
}
