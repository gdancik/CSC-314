{
 "cells": [
  {
   "cell_type": "markdown",
   "metadata": {
    "deletable": false,
    "editable": false
   },
   "source": [
    "# Lab 2: Sequence analysis"
   ]
  },
  {
   "cell_type": "markdown",
   "metadata": {},
   "source": [
    "### Name: (add name here)"
   ]
  },
  {
   "cell_type": "code",
   "execution_count": null,
   "metadata": {
    "deletable": false,
    "editable": false
   },
   "outputs": [],
   "source": [
    "user_dna = 'ACDTAGCaa'"
   ]
  },
  {
   "cell_type": "markdown",
   "metadata": {
    "deletable": false,
    "editable": false
   },
   "source": [
    "### Question 1 <span style = 'font-size:80%'>[6 points]</span>\n",
    "\n",
    "Prompt the user to enter a sequence, and store the sequence in *user_dna*."
   ]
  },
  {
   "cell_type": "code",
   "execution_count": null,
   "metadata": {},
   "outputs": [],
   "source": []
  },
  {
   "cell_type": "markdown",
   "metadata": {
    "deletable": false,
    "editable": false
   },
   "source": [
    "### Question 2 <span style = 'font-size:80%'>[4 points]</span>\n",
    "\n",
    "Convert the sequence to upper case, and store the sequence in *user_dna*. This ensures that the results are correct regardless of whether the user enters the sequence in lower- or uppercase."
   ]
  },
  {
   "cell_type": "code",
   "execution_count": null,
   "metadata": {},
   "outputs": [],
   "source": []
  },
  {
   "cell_type": "markdown",
   "metadata": {
    "deletable": false,
    "editable": false
   },
   "source": [
    "### Format the sequence for invalid characters"
   ]
  },
  {
   "cell_type": "code",
   "execution_count": null,
   "metadata": {
    "deletable": false,
    "editable": false
   },
   "outputs": [],
   "source": [
    "# start with an empty formatted sequence\n",
    "dna = ''\n",
    "\n",
    "# for each nucleotide in the sequence\n",
    "for nucleotide in user_dna :\n",
    "    \n",
    "    # if valid, add it to the formatted sequence\n",
    "    if nucleotide in 'TCGA' :\n",
    "        dna += nucleotide\n",
    "    else : # otherwise, add a '-' for an invalid character\n",
    "        dna += '-'\n",
    "        \n",
    "# display the sequence\n",
    "dna"
   ]
  },
  {
   "cell_type": "markdown",
   "metadata": {
    "deletable": false,
    "editable": false
   },
   "source": [
    "### Question 3 <span style = 'font-size:80%'>[5 points]</span>\n",
    "Display the sequence, which is stored in *dna*, making sure to add the 5' and 3' labels. *Note*: the labels should not be added to the sequence itself, but should only be included when the sequence is printed or displayed.\n",
    "\n",
    "Your sequence should be displayed with the following format:\n",
    "\n",
    "5' - AC-TAGC-A - 3'\n"
   ]
  },
  {
   "cell_type": "code",
   "execution_count": null,
   "metadata": {},
   "outputs": [],
   "source": [
    "print('You entered the following sequence:')"
   ]
  },
  {
   "cell_type": "markdown",
   "metadata": {
    "deletable": false,
    "editable": false
   },
   "source": [
    "### Question 4 <span style = 'font-size:80%'>[5 points]</span>\n",
    "\n",
    "Output the length of the sequence, using the following format:\n",
    "\n",
    "```\n",
    "Sequence length: 13 nucleotides\n",
    "```"
   ]
  },
  {
   "cell_type": "code",
   "execution_count": null,
   "metadata": {},
   "outputs": [],
   "source": []
  },
  {
   "cell_type": "markdown",
   "metadata": {
    "deletable": false,
    "editable": false
   },
   "source": [
    "### Question 5 <span style = 'font-size:80%'>[10 points]</span>\n",
    "\n",
    "Write code to construct and/or display the complementary sequence, making sure to add the 5' and 3' labels. "
   ]
  },
  {
   "cell_type": "code",
   "execution_count": null,
   "metadata": {},
   "outputs": [],
   "source": []
  },
  {
   "cell_type": "markdown",
   "metadata": {
    "deletable": false,
    "editable": false
   },
   "source": [
    "### Question 6 <span style = 'font-size:80%'>[5 points]</span>\n",
    "\n",
    "Write code to construct and/or display the reverse complement, making sure to add the 5' and 3' labels. "
   ]
  },
  {
   "cell_type": "code",
   "execution_count": null,
   "metadata": {},
   "outputs": [],
   "source": []
  },
  {
   "cell_type": "code",
   "execution_count": null,
   "metadata": {},
   "outputs": [],
   "source": [
    "gc = 52.3343 # sets a default GC content, which should be changed below"
   ]
  },
  {
   "cell_type": "markdown",
   "metadata": {
    "deletable": false,
    "editable": false
   },
   "source": [
    "### Question 7 <span style = 'font-size:80%'>[10 points]</span>\n",
    "\n",
    "Calculate the GC content of the sequence, which is the percentage of G or C nucleotides in the sequence (ignoring invalid characters), and store this in the variable *gc*. The formula for GC content is\n",
    "\n",
    "$$\n",
    "\\frac{G + C}{A + T + G + C} \\times 100\\%\n",
    "$$\n",
    "\n",
    "where $G, C, A,$ and $T$ are the number of G (guanine), C (cytosine), A (adenine), and T (thymine) bases in the sequence. Invalid characters in the sequence are ignored.\n",
    "\n",
    "*Note:* GC content is important biologically because GC rich regions in the genome are associated with gene rich regions.\n"
   ]
  },
  {
   "cell_type": "code",
   "execution_count": null,
   "metadata": {},
   "outputs": [],
   "source": []
  },
  {
   "cell_type": "markdown",
   "metadata": {
    "deletable": false,
    "editable": false
   },
   "source": [
    "Display the GC content (Note: GC content should be stored in *gc*, as described above)\n",
    "*Note*: This code uses an f-string, which formats the value of *gc* to 2 decimal places)"
   ]
  },
  {
   "cell_type": "code",
   "execution_count": null,
   "metadata": {
    "deletable": false,
    "editable": false
   },
   "outputs": [],
   "source": [
    "gc_formatted = f'{gc:.2f}%'\n",
    "print('The GC content is:', gc_formatted)"
   ]
  }
 ],
 "metadata": {
  "kernelspec": {
   "display_name": "Python 3",
   "language": "python",
   "name": "python3"
  },
  "language_info": {
   "codemirror_mode": {
    "name": "ipython",
    "version": 3
   },
   "file_extension": ".py",
   "mimetype": "text/x-python",
   "name": "python",
   "nbconvert_exporter": "python",
   "pygments_lexer": "ipython3",
   "version": "3.8.3"
  }
 },
 "nbformat": 4,
 "nbformat_minor": 4
}
