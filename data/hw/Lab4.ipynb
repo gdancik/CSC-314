{
 "cells": [
  {
   "cell_type": "markdown",
   "metadata": {
    "deletable": false,
    "editable": false
   },
   "source": [
    "# Lab 4: Complements with a Python dictionary"
   ]
  },
  {
   "cell_type": "markdown",
   "metadata": {},
   "source": [
    "### Name: (add your name to this markdown cell)"
   ]
  },
  {
   "cell_type": "markdown",
   "metadata": {
    "deletable": false,
    "editable": false
   },
   "source": [
    "\n",
    "For this assignment, you will use the AI tool to generate code. Each code cell must include the prompt used. Every line of code must also contain a comment describing what the code does. \n",
    "\n",
    "Make sure to run your code and look over it carefully. AI can make mistakes!"
   ]
  },
  {
   "cell_type": "markdown",
   "metadata": {},
   "source": [
    "Note that the DNA sequence below is specified from 5' to 3'."
   ]
  },
  {
   "cell_type": "code",
   "execution_count": null,
   "metadata": {},
   "outputs": [],
   "source": [
    "dna = 'ACGTACCG-TGAGAGATACAG'\n",
    "complement = ''"
   ]
  },
  {
   "cell_type": "markdown",
   "metadata": {
    "deletable": false,
    "editable": false
   },
   "source": [
    "### Question 1 <span style = 'font-size:80%'>[10 points]</span>\n",
    "\n",
    "Create a Python dictionary for finding complementary base pairs, and then find and store the complementary sequence of *dna* in the variable *complement*. Note: if the nucleotide is not valid, then you should use '-' for its complement."
   ]
  },
  {
   "cell_type": "code",
   "execution_count": null,
   "metadata": {},
   "outputs": [],
   "source": []
  },
  {
   "cell_type": "markdown",
   "metadata": {
    "deletable": false,
    "editable": false
   },
   "source": [
    "### Question 2 <span style = 'font-size:80%'>[5 points]</span>\n",
    "\n",
    "Output the double-stranded DNA, making sure to label the 5' and 3' ends.\n",
    "\n",
    "Your output should have the format below (assuming *dna* contains 'TACG')\n",
    "\n",
    "```\n",
    "5' - TACG - 3'\n",
    "3' - ATGC - 5'\n",
    "```"
   ]
  },
  {
   "cell_type": "code",
   "execution_count": null,
   "metadata": {
    "deletable": false,
    "editable": false
   },
   "outputs": [],
   "source": []
  }
 ],
 "metadata": {
  "kernelspec": {
   "display_name": "Python 3 (ipykernel)",
   "language": "python",
   "name": "python3"
  },
  "language_info": {
   "codemirror_mode": {
    "name": "ipython",
    "version": 3
   },
   "file_extension": ".py",
   "mimetype": "text/x-python",
   "name": "python",
   "nbconvert_exporter": "python",
   "pygments_lexer": "ipython3",
   "version": "3.9.12"
  }
 },
 "nbformat": 4,
 "nbformat_minor": 4
}
